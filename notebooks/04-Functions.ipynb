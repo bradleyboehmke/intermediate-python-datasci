{
 "cells": [
  {
   "cell_type": "markdown",
   "metadata": {},
   "source": [
    "# Functions"
   ]
  },
  {
   "cell_type": "markdown",
   "metadata": {},
   "source": [
    "## Applied Review"
   ]
  },
  {
   "cell_type": "markdown",
   "metadata": {},
   "source": [
    "### Conditions\n",
    "- Conditions allow us to execute different chunks of code depending on whether a condition is true or false.\n",
    "- The condition syntax is\n",
    "\n",
    "```python\n",
    "if condition:\n",
    "    my_code()\n",
    "else:\n",
    "    my_other_code()\n",
    "``` "
   ]
  },
  {
   "cell_type": "markdown",
   "metadata": {},
   "source": [
    "### Iteration\n",
    "- Python supports several kinds of iteration structures, which we generally call **loops*.\n",
    "- `for` loops iterate through elements in a collection\n",
    "```python\n",
    "    for x in collection:\n",
    "        do_something_with_x()\n",
    "```\n",
    "- `while` loops run until a condition is no longer true\n",
    "```python\n",
    "    while x > 3:\n",
    "        do_something()\n",
    "```"
   ]
  },
  {
   "cell_type": "markdown",
   "metadata": {},
   "source": [
    "## DRY"
   ]
  },
  {
   "cell_type": "markdown",
   "metadata": {},
   "source": [
    "A fundamental precept of good programming is **Don't Repeat Yourself**, often abbreviated **DRY**.\n",
    "Repetition can happen when you want to do one operation (or a slight variant) several times and simply copy and paste your code to achieve that goal.\n",
    "Copy-pasting is almost always a red flag that you're violating DRY!"
   ]
  },
  {
   "cell_type": "markdown",
   "metadata": {},
   "source": [
    "Repetition leads to a few problems:"
   ]
  },
  {
   "cell_type": "markdown",
   "metadata": {},
   "source": [
    "- Longer, more verbose code"
   ]
  },
  {
   "cell_type": "markdown",
   "metadata": {},
   "source": [
    "- Worse readability\n",
    "    - Others have to spend a lot of time looking through your code to realize you're doing the same thing over and over."
   ]
  },
  {
   "cell_type": "markdown",
   "metadata": {},
   "source": [
    "- Difficulty in updating methodology\n",
    "    - If you want to change something about the code block you repeated, you have to change it *everywhere* that code occurs."
   ]
  },
  {
   "cell_type": "markdown",
   "metadata": {},
   "source": [
    "## Functions to the Rescue\n",
    "The best solution to DRY is usually functions.\n",
    "\n",
    "*Functions* are code blocks that can be saved.\n",
    "Functions have names, and if they're named well you can easily understand what they're for."
   ]
  },
  {
   "cell_type": "code",
   "execution_count": 4,
   "metadata": {},
   "outputs": [
    {
     "data": {
      "text/plain": [
       "2"
      ]
     },
     "execution_count": 4,
     "metadata": {},
     "output_type": "execute_result"
    }
   ],
   "source": [
    "mylist = ['mark', 'ethan']\n",
    "len(mylist)"
   ]
  },
  {
   "cell_type": "markdown",
   "metadata": {},
   "source": [
    "`len` is a function to return the length of a list.\n",
    "Functions that come with Python tend to have short names since they're used so much."
   ]
  },
  {
   "cell_type": "markdown",
   "metadata": {},
   "source": [
    "`len` abstracts away a block of code so we don't have to think about how it works.\n",
    "But what might be inside the `len` function?"
   ]
  },
  {
   "cell_type": "code",
   "execution_count": 7,
   "metadata": {},
   "outputs": [
    {
     "name": "stdout",
     "output_type": "stream",
     "text": [
      "2\n"
     ]
    }
   ],
   "source": [
    "counter = 0\n",
    "for item in mylist:\n",
    "    counter = counter + 1\n",
    "print(counter)"
   ]
  },
  {
   "cell_type": "markdown",
   "metadata": {},
   "source": [
    "The great thing about functions, like `len`, is that they allow us to avoid rewriting the underlying logic (like the above for loop) every time we want to do a common operation."
   ]
  },
  {
   "cell_type": "markdown",
   "metadata": {},
   "source": [
    "Functions in other libraries are often named more verbosely -- which can be helpful since it helps us figure out how to use them."
   ]
  },
  {
   "cell_type": "code",
   "execution_count": 5,
   "metadata": {},
   "outputs": [
    {
     "data": {
      "text/plain": [
       "'2019-01-01'"
      ]
     },
     "execution_count": 5,
     "metadata": {},
     "output_type": "execute_result"
    }
   ],
   "source": [
    "import pandas as pd\n",
    "date_string = '2019-01-01'\n",
    "date_string"
   ]
  },
  {
   "cell_type": "code",
   "execution_count": 6,
   "metadata": {},
   "outputs": [
    {
     "data": {
      "text/plain": [
       "Timestamp('2019-01-01 00:00:00')"
      ]
     },
     "execution_count": 6,
     "metadata": {},
     "output_type": "execute_result"
    }
   ],
   "source": [
    "# Convert the date string into a timestamp\n",
    "pd.to_datetime(date_string)"
   ]
  },
  {
   "cell_type": "markdown",
   "metadata": {},
   "source": [
    "Pandas' `to_datetime` function converts an object into a timestamp."
   ]
  },
  {
   "cell_type": "markdown",
   "metadata": {},
   "source": [
    "## Defining Your Own Functions\n",
    "You've used functions that others have written for you, but as your Python projects become more complicated you'll want to begin writing your own functions to follow the DRY principle."
   ]
  },
  {
   "cell_type": "markdown",
   "metadata": {},
   "source": [
    "Functions are created using two new keywords, `def` (as in `def`ine) and `return`.\n",
    "The general structure is:"
   ]
  },
  {
   "cell_type": "markdown",
   "metadata": {},
   "source": [
    "```python\n",
    "def myfunction(parameters):\n",
    "    code_block\n",
    "    return result_of_function\n",
    "```"
   ]
  },
  {
   "cell_type": "markdown",
   "metadata": {},
   "source": [
    "Functions take inputs and produce outputs.\n",
    "In the context of functions, inputs are called **parameters** (or **arguments** in some cases), and outputs are called **return values**."
   ]
  },
  {
   "cell_type": "markdown",
   "metadata": {},
   "source": [
    "The `return` keyword is optional -- your function doesn't *have* to return a value.\n",
    "But if your function produces some kind of output, `return` is the way to express that."
   ]
  },
  {
   "cell_type": "markdown",
   "metadata": {},
   "source": [
    "Let's write a function that doubles a number and call that function `double`."
   ]
  },
  {
   "cell_type": "code",
   "execution_count": 9,
   "metadata": {},
   "outputs": [],
   "source": [
    "def double(number):\n",
    "    doubled_number = number * 2\n",
    "    return doubled_number"
   ]
  },
  {
   "cell_type": "markdown",
   "metadata": {},
   "source": [
    "We can call our new function the same way we would with any function in Python."
   ]
  },
  {
   "cell_type": "code",
   "execution_count": 10,
   "metadata": {},
   "outputs": [
    {
     "data": {
      "text/plain": [
       "6"
      ]
     },
     "execution_count": 10,
     "metadata": {},
     "output_type": "execute_result"
    }
   ],
   "source": [
    "double(3)"
   ]
  },
  {
   "cell_type": "code",
   "execution_count": 11,
   "metadata": {},
   "outputs": [
    {
     "data": {
      "text/plain": [
       "10"
      ]
     },
     "execution_count": 11,
     "metadata": {},
     "output_type": "execute_result"
    }
   ],
   "source": [
    "x = 5\n",
    "double(x)"
   ]
  }
 ],
 "metadata": {
  "kernelspec": {
   "display_name": "uc-python",
   "language": "python",
   "name": "python3"
  },
  "language_info": {
   "codemirror_mode": {
    "name": "ipython",
    "version": 3
   },
   "file_extension": ".py",
   "mimetype": "text/x-python",
   "name": "python",
   "nbconvert_exporter": "python",
   "pygments_lexer": "ipython3",
   "version": "3.7.3"
  }
 },
 "nbformat": 4,
 "nbformat_minor": 2
}
