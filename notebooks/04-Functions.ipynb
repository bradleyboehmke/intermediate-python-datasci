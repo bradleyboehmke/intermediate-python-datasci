{
 "cells": [
  {
   "cell_type": "markdown",
   "metadata": {},
   "source": [
    "# Functions"
   ]
  },
  {
   "cell_type": "markdown",
   "metadata": {},
   "source": [
    "## Applied Review"
   ]
  },
  {
   "cell_type": "markdown",
   "metadata": {},
   "source": [
    "### Conditions\n",
    "- Conditions allow us to execute different chunks of code depending on whether a condition is true or false.\n",
    "- The condition syntax is\n",
    "\n",
    "```python\n",
    "if condition:\n",
    "    my_code()\n",
    "else:\n",
    "    my_other_code()\n",
    "``` "
   ]
  },
  {
   "cell_type": "markdown",
   "metadata": {},
   "source": [
    "### Iteration\n",
    "- Python supports several kinds of iteration structures, which we generally call **loops*.\n",
    "- `for` loops iterate through elements in a collection\n",
    "```python\n",
    "    for x in collection:\n",
    "        do_something_with_x()\n",
    "```\n",
    "- `while` loops run until a condition is no longer true\n",
    "```python\n",
    "    while x > 3:\n",
    "        do_something_with_x()\n",
    "```"
   ]
  },
  {
   "cell_type": "code",
   "execution_count": null,
   "metadata": {},
   "outputs": [],
   "source": []
  }
 ],
 "metadata": {
  "kernelspec": {
   "display_name": "uc-python",
   "language": "python",
   "name": "python3"
  },
  "language_info": {
   "codemirror_mode": {
    "name": "ipython",
    "version": 3
   },
   "file_extension": ".py",
   "mimetype": "text/x-python",
   "name": "python",
   "nbconvert_exporter": "python",
   "pygments_lexer": "ipython3",
   "version": "3.7.3"
  }
 },
 "nbformat": 4,
 "nbformat_minor": 2
}
