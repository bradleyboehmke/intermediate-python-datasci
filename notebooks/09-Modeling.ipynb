{
 "cells": [
  {
   "cell_type": "markdown",
   "metadata": {},
   "source": [
    "# Modeling with `scikit-learn`"
   ]
  },
  {
   "cell_type": "markdown",
   "metadata": {},
   "source": [
    "## Applied Review"
   ]
  },
  {
   "cell_type": "markdown",
   "metadata": {},
   "source": [
    "### `scikit-learn` in Python's Data Science Ecosystem"
   ]
  },
  {
   "cell_type": "markdown",
   "metadata": {},
   "source": [
    "### `pandas` DataFrame vs. `numpy` Array"
   ]
  },
  {
   "cell_type": "markdown",
   "metadata": {},
   "source": [
    "## Machine Learning Overview"
   ]
  },
  {
   "cell_type": "markdown",
   "metadata": {},
   "source": [
    "* `scikit-learn` is a package for **machine learning**"
   ]
  },
  {
   "cell_type": "markdown",
   "metadata": {},
   "source": [
    "* You may hear this called modeling, predictive analytics, data mining, artifical intelligence, etc."
   ]
  },
  {
   "cell_type": "markdown",
   "metadata": {},
   "source": [
    "* But **machine learning** is a catch all term for these things"
   ]
  },
  {
   "cell_type": "markdown",
   "metadata": {},
   "source": [
    "* Despite being broad, all machine learning methodologies and problems fit into two categories: **supervised learning** and **unsupervised learning**"
   ]
  },
  {
   "cell_type": "markdown",
   "metadata": {},
   "source": [
    "### Supervised Learning"
   ]
  },
  {
   "cell_type": "markdown",
   "metadata": {},
   "source": [
    "* Generally speaking, **supervised learning** problems are focused on predicting a truth"
   ]
  },
  {
   "cell_type": "markdown",
   "metadata": {},
   "source": [
    "* Another way to think of this is *learning a function* -- given the inputs, attempt to predict the output"
   ]
  },
  {
   "cell_type": "markdown",
   "metadata": {},
   "source": [
    "* Examples:\n",
    "  * Predicting a customer's satisfaction with a product they haven't tried before\n",
    "  * Predicting next month's sales\n",
    "  * Predicting the outcome of a sporting event\n",
    "  * Predicting whether a photo contains a cucumber or a zucchini"
   ]
  },
  {
   "cell_type": "markdown",
   "metadata": {},
   "source": [
    "* All of these examples of supervised learning fit into two distinct categories: **regression** and **classification**"
   ]
  },
  {
   "cell_type": "markdown",
   "metadata": {},
   "source": [
    "#### Regression"
   ]
  },
  {
   "cell_type": "markdown",
   "metadata": {},
   "source": [
    "* **Regression** is focused on predicting a *continuous output*"
   ]
  },
  {
   "cell_type": "markdown",
   "metadata": {},
   "source": [
    "<div class='question'>\n",
    "    <strong>Question:</strong> Which of our examples are regression problems?\n",
    "</div>\n",
    "\n",
    "  * Predicting a customer's satisfaction with a product they haven't tried before\n",
    "  * Predicting next month's sales\n",
    "  * Predicting the outcome of a sporting event\n",
    "  * Predicting whether a photo contains a cucumber or a zucchini"
   ]
  },
  {
   "cell_type": "markdown",
   "metadata": {},
   "source": [
    "* While *regression* sounds like *linear regression*, there are a variety of algorithms for regression:\n",
    "  * Regression - Linear, Polynomial, Ridge, Lasso, ElasticNet\n",
    "  * Tree-based - Decision Trees, Random Forest, Gradient Boosting\n",
    "  * Neural Networks"
   ]
  },
  {
   "cell_type": "markdown",
   "metadata": {},
   "source": [
    "#### Classification"
   ]
  },
  {
   "cell_type": "markdown",
   "metadata": {},
   "source": [
    "* **Classification** is focused on predicting a discrete output (cateogies)"
   ]
  },
  {
   "cell_type": "markdown",
   "metadata": {},
   "source": [
    "* Our other two examples are classification problems:\n",
    "  * Predicting the outcome of a sporting event\n",
    "  * Predicting whether a photo contains a cucumber or a zucchini"
   ]
  },
  {
   "cell_type": "markdown",
   "metadata": {},
   "source": [
    "* Note that there can be two (yes/no) or more cateogies"
   ]
  },
  {
   "cell_type": "markdown",
   "metadata": {},
   "source": [
    "* Just like regression, classification has a variety of algorithms:\n",
    "  * Regression - Logistic, Multinomial, Ordinal, Logit, Probit\n",
    "  * Nearest Neighbors\n",
    "  * Tree-based - Decision Trees, Random Forest, Gradient Boosting\n",
    "  * Neural Networks"
   ]
  },
  {
   "cell_type": "markdown",
   "metadata": {},
   "source": [
    "### Unsupervised Learning"
   ]
  },
  {
   "cell_type": "markdown",
   "metadata": {},
   "source": [
    "* While **supervised learning** problems are focused on predicting a truth, **unsupervised learning** has no truth data"
   ]
  },
  {
   "cell_type": "markdown",
   "metadata": {},
   "source": [
    "* In other words, there is no output -- therefore, there's no function to learn"
   ]
  },
  {
   "cell_type": "markdown",
   "metadata": {},
   "source": [
    "* Instead, **unsupervised learning** is focused on learning patterns between cases/observations"
   ]
  },
  {
   "cell_type": "markdown",
   "metadata": {},
   "source": [
    "#### Clustering"
   ]
  },
  {
   "cell_type": "markdown",
   "metadata": {},
   "source": [
    "* *Clustering* is focused on grouping observations into categories based on similarities -- these categories are not set or known beforehand"
   ]
  },
  {
   "cell_type": "markdown",
   "metadata": {},
   "source": [
    "* An example of this is a customer segmentation -- placing customers in segments based on their buying patterns"
   ]
  },
  {
   "cell_type": "markdown",
   "metadata": {},
   "source": [
    "* A few key clustering algorithms:\n",
    "  * KMeans\n",
    "  * Hierarchical\n",
    "  * Spectral"
   ]
  },
  {
   "cell_type": "markdown",
   "metadata": {},
   "source": [
    "#### Dimension Reduction "
   ]
  },
  {
   "cell_type": "markdown",
   "metadata": {},
   "source": [
    "* *Dimension reduction* is focused on reducing the number of dimensions needed to represent an observation or case"
   ]
  },
  {
   "cell_type": "markdown",
   "metadata": {},
   "source": [
    "* An example is taking an observation with 150 variables and representing its variability in just 10 variables -- this is helpful in avoiding the curse of dimensionality and collinearity"
   ]
  },
  {
   "cell_type": "markdown",
   "metadata": {},
   "source": [
    "* A few key dimension reduction algorithms:\n",
    "  * Principle Components Analysis\n",
    "  * Non-negative Matrix Factorization"
   ]
  },
  {
   "cell_type": "markdown",
   "metadata": {},
   "source": [
    "#### Text Vectorization"
   ]
  },
  {
   "cell_type": "markdown",
   "metadata": {},
   "source": [
    "* While text mining and natural language processing are their own branch of data science, *text vectorization* is an example of unsupervised learning"
   ]
  },
  {
   "cell_type": "markdown",
   "metadata": {},
   "source": [
    "* Text vectorization is focused on creating numeric representations of text by learning from words and their surroundings"
   ]
  },
  {
   "cell_type": "markdown",
   "metadata": {},
   "source": [
    "* These methods are increasingly popular -- they're used heavily in chatbots and digital assistants"
   ]
  },
  {
   "cell_type": "markdown",
   "metadata": {},
   "source": [
    "* The two common algorithms are:\n",
    "  * Word2Vec\n",
    "  * Doc2Vec"
   ]
  },
  {
   "cell_type": "markdown",
   "metadata": {},
   "source": [
    "## Building a Supervised Learning Regression Model\n",
    "\n",
    "### Setting Up the Problem\n",
    "\n",
    "### Preparing Data\n",
    "\n",
    "#### Data Partitioning\n",
    "\n",
    "##### Train vs. Test\n",
    "\n",
    "##### Cross-validation\n",
    "\n",
    "#### Feature Engineering\n",
    "\n",
    "### Training the Model\n",
    "\n",
    "### Validating the Model\n",
    "\n",
    "#### Error Rates\n",
    "\n",
    "#### Variable Considerations\n",
    "\n",
    "##### Coefficients"
   ]
  }
 ],
 "metadata": {
  "kernelspec": {
   "display_name": "Python 3",
   "language": "python",
   "name": "python3"
  },
  "language_info": {
   "codemirror_mode": {
    "name": "ipython",
    "version": 3
   },
   "file_extension": ".py",
   "mimetype": "text/x-python",
   "name": "python",
   "nbconvert_exporter": "python",
   "pygments_lexer": "ipython3",
   "version": "3.7.3"
  }
 },
 "nbformat": 4,
 "nbformat_minor": 2
}
