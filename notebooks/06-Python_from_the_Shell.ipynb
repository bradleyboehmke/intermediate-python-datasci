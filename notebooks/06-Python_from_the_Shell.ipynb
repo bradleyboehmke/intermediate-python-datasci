{
 "cells": [
  {
   "cell_type": "markdown",
   "metadata": {},
   "source": [
    "# Python from the Shell"
   ]
  },
  {
   "cell_type": "markdown",
   "metadata": {},
   "source": [
    "## Applied Review"
   ]
  },
  {
   "cell_type": "markdown",
   "metadata": {},
   "source": [
    "### Functions"
   ]
  },
  {
   "cell_type": "markdown",
   "metadata": {
    "slideshow": {
     "slide_type": "fragment"
    }
   },
   "source": [
    "- Functions take inputs (arguments) and produce outputs (return values)"
   ]
  },
  {
   "cell_type": "markdown",
   "metadata": {
    "slideshow": {
     "slide_type": "fragment"
    }
   },
   "source": [
    "- Functions can take arguments by order or by name (aka *keyword*)"
   ]
  },
  {
   "cell_type": "markdown",
   "metadata": {
    "slideshow": {
     "slide_type": "fragment"
    }
   },
   "source": [
    "- Good functions abstract away complex code into a single, well-named and -documented interface."
   ]
  },
  {
   "cell_type": "markdown",
   "metadata": {},
   "source": [
    "### Applying Functions to DataFrames"
   ]
  },
  {
   "cell_type": "markdown",
   "metadata": {
    "slideshow": {
     "slide_type": "fragment"
    }
   },
   "source": [
    "- Series and DataFrame objects have an `apply` method that accepts a function"
   ]
  },
  {
   "cell_type": "markdown",
   "metadata": {
    "slideshow": {
     "slide_type": "fragment"
    }
   },
   "source": [
    "- In a Series, `apply` applies the function to each element in the Series"
   ]
  },
  {
   "cell_type": "markdown",
   "metadata": {
    "slideshow": {
     "slide_type": "fragment"
    }
   },
   "source": [
    "- In a DataFrame, `apply` applies the function to each row or column"
   ]
  },
  {
   "cell_type": "markdown",
   "metadata": {
    "slideshow": {
     "slide_type": "fragment"
    }
   },
   "source": [
    "- In the case of DataFrames, applied functions can return scalars or Series\n",
    "    - In the former case, the full output of the `apply` will be a Series\n",
    "    - In the latter, the full output will be a DataFrame"
   ]
  },
  {
   "cell_type": "markdown",
   "metadata": {},
   "source": [
    "## The Shell"
   ]
  },
  {
   "cell_type": "markdown",
   "metadata": {},
   "source": [
    "**The shell** is the technical name for the command line.\n",
    "While all of our Python work in this course has been via Jupyter Notebooks, historically most programming has involved using the shell."
   ]
  },
  {
   "cell_type": "markdown",
   "metadata": {
    "slideshow": {
     "slide_type": "fragment"
    }
   },
   "source": [
    "On Windows, the default shell is called **Powershell**.\n",
    "On Mac and Linux, it's called **Bash** -- an abbreviation for the *Bourne Again Shell*, a computer science joke."
   ]
  },
  {
   "cell_type": "markdown",
   "metadata": {
    "slideshow": {
     "slide_type": "fragment"
    }
   },
   "source": [
    "For parts of this conversation that are different between Powershell and Bash, we will generally use the Bash terminology and syntax."
   ]
  },
  {
   "cell_type": "markdown",
   "metadata": {},
   "source": [
    "Shells typically only accept text input and show text output. The mouse doesn't register, and there are no images."
   ]
  },
  {
   "cell_type": "markdown",
   "metadata": {
    "slideshow": {
     "slide_type": "fragment"
    }
   },
   "source": [
    "This type of environment can be very intimidating to newcomers -- and sometimes even to intermediate users -- but the shell is important."
   ]
  },
  {
   "cell_type": "markdown",
   "metadata": {},
   "source": [
    "Reasons to use the shell:\n",
    "- **It's universal** -- Every computer has a shell. Even mobile devices sometimes support access to the shell.\n",
    "- **It's \"closer to the metal\"** -- While in many cases, a simple interface is desirable, when the time comes that you want more direct control of the computer then the shell is the best option.\n",
    "- **Some functionality is only available in the shell** -- *Batching* code (running Python non-interactively, outside a notebook) is best done directly from the shell."
   ]
  },
  {
   "cell_type": "markdown",
   "metadata": {},
   "source": [
    "Most Bash prompts looks something like this"
   ]
  },
  {
   "cell_type": "markdown",
   "metadata": {
    "slideshow": {
     "slide_type": "fragment"
    }
   },
   "source": [
    "![Shell-Light](images/shell_light.png)"
   ]
  },
  {
   "cell_type": "markdown",
   "metadata": {},
   "source": [
    "Or like this"
   ]
  },
  {
   "cell_type": "markdown",
   "metadata": {
    "slideshow": {
     "slide_type": "fragment"
    }
   },
   "source": [
    "![Shell-Dark](images/shell_dark.png)"
   ]
  },
  {
   "cell_type": "markdown",
   "metadata": {},
   "source": [
    "Or, on CSI, like this:"
   ]
  },
  {
   "cell_type": "markdown",
   "metadata": {
    "slideshow": {
     "slide_type": "fragment"
    }
   },
   "source": [
    "![Shell-CSI](images/shell_csi.png)"
   ]
  },
  {
   "cell_type": "markdown",
   "metadata": {
    "slideshow": {
     "slide_type": "slide"
    }
   },
   "source": [
    "The text up to and including the dollar sign is called the prompt."
   ]
  },
  {
   "cell_type": "markdown",
   "metadata": {
    "slideshow": {
     "slide_type": "fragment"
    }
   },
   "source": [
    "It's a prompt because it's *prompting* the user to enter input. You, the user, enter commands after that trailing `$` -- and the shell shows results in the space below."
   ]
  },
  {
   "cell_type": "markdown",
   "metadata": {
    "slideshow": {
     "slide_type": "slide"
    }
   },
   "source": [
    "![Shell-LS](images/shell_ls.png)"
   ]
  },
  {
   "cell_type": "markdown",
   "metadata": {
    "slideshow": {
     "slide_type": "fragment"
    }
   },
   "source": [
    "Above, I ran the `ls` command, short for *list files*. The shell printed a list of files in my home directory."
   ]
  },
  {
   "cell_type": "markdown",
   "metadata": {
    "slideshow": {
     "slide_type": "fragment"
    }
   },
   "source": [
    "Then it printed a new prompt. Ready for more commands!"
   ]
  },
  {
   "cell_type": "markdown",
   "metadata": {},
   "source": [
    "If you are running your notebooks via Binder or on a Mac, you can access a bash shell through Jupyter Notebooks.\n",
    "\n",
    "In the \"New\" menu, one of the options near the bottom is \"Terminal\"."
   ]
  },
  {
   "cell_type": "markdown",
   "metadata": {},
   "source": [
    "![New Terminal](images/new_terminal.png)"
   ]
  },
  {
   "cell_type": "markdown",
   "metadata": {},
   "source": [
    "<font class=\"your_turn\">\n",
    "Your Turn\n",
    "</font>\n",
    "\n",
    "If you are using Binder or your local Mac (or Linux) laptop, open a shell as shown above.\n",
    "Type the `ls` command, press *enter*, and see what happens."
   ]
  },
  {
   "cell_type": "markdown",
   "metadata": {},
   "source": [
    "Unfortunately, we don't have time in this course to cover general shell usage."
   ]
  },
  {
   "cell_type": "markdown",
   "metadata": {
    "slideshow": {
     "slide_type": "fragment"
    }
   },
   "source": [
    "But we will talk about how to leverage Python from the shell...."
   ]
  },
  {
   "cell_type": "markdown",
   "metadata": {},
   "source": [
    "## The Python REPL"
   ]
  },
  {
   "cell_type": "markdown",
   "metadata": {},
   "source": [
    "Before Jupyter notebooks, the way to work interactively was through the Python REPL."
   ]
  },
  {
   "cell_type": "markdown",
   "metadata": {},
   "source": [
    "REPL stands for Read, Evaluate, Print, Loop."
   ]
  },
  {
   "cell_type": "markdown",
   "metadata": {},
   "source": [
    "Python **reads** input (code) from the user, **evaluates** that input (runs the code), **prints** any results, and then **loops** back to the beginning and starts again."
   ]
  },
  {
   "cell_type": "markdown",
   "metadata": {},
   "source": [
    "When you think about it, this is pretty much what Jupyter notebooks do: read the code you type in a cell, evaluate it, print output, and start a new cell where you can do it again."
   ]
  },
  {
   "cell_type": "markdown",
   "metadata": {},
   "source": [
    "There are a two versions of the Python REPL:\n",
    "1. Classic -- straight Python with no frills. No autocomplete, no documentation with `?`.\n",
    "2. iPython -- a friendlier, newer version of the Python REPL from the creators of Jupyter."
   ]
  },
  {
   "cell_type": "markdown",
   "metadata": {},
   "source": [
    "We're going to use iPython.\n",
    "In my own work, I use iPython often -- sometimes even when Jupyter Notebooks are available."
   ]
  },
  {
   "cell_type": "markdown",
   "metadata": {},
   "source": [
    "<font class=\"your_turn\">\n",
    "Your Turn\n",
    "</font>\n",
    "\n",
    "Open the shell on your device and type `ipython` (case matters!).\n",
    "\n",
    "Take a look at the prompt that appears, and then type `x = 4`.\n",
    "\n",
    "Now `print(x)`."
   ]
  },
  {
   "cell_type": "markdown",
   "metadata": {},
   "source": [
    "![iPython](images/ipython.png)"
   ]
  },
  {
   "cell_type": "markdown",
   "metadata": {},
   "source": [
    "Hopefully you saw that iPython is just like Python in notebooks (except it doesn't support markdown and graphics).\n",
    "\n",
    "If you don't do much plotting, this interface can be a perfectly good way of working in Python."
   ]
  },
  {
   "cell_type": "markdown",
   "metadata": {},
   "source": [
    "I like it a lot because it's more compact than Jupyter notebooks –- I can work quickly in iPython and keep other windows open as well.\n",
    "Often I write experimental code in iPython and copy the parts I want to keep to another file."
   ]
  },
  {
   "cell_type": "markdown",
   "metadata": {},
   "source": [
    "## .py Files"
   ]
  },
  {
   "cell_type": "markdown",
   "metadata": {},
   "source": [
    "Speaking of other files, what type of file would one copy Python code to?"
   ]
  },
  {
   "cell_type": "markdown",
   "metadata": {},
   "source": [
    "A file with a .py extension, the native extension for a Python script."
   ]
  },
  {
   "cell_type": "markdown",
   "metadata": {},
   "source": [
    "<div class=\"question\">\n",
    "<strong>Question:</strong> What is the file extension for Jupyter notebooks? Why is this different from .py?\n",
    "</div>"
   ]
  },
  {
   "cell_type": "markdown",
   "metadata": {},
   "source": [
    ".py files are plain text; there's nothing in them but Python code."
   ]
  },
  {
   "cell_type": "markdown",
   "metadata": {},
   "source": [
    "This is in contrast to notebooks, which save a lot of *metadata*:\n",
    "- Whether cells have been run (and in what order)\n",
    "- Markdown\n",
    "- Information about how to convert to slides\n",
    "- Several other custom tags."
   ]
  },
  {
   "cell_type": "markdown",
   "metadata": {},
   "source": [
    "### Why Use .py Files?"
   ]
  },
  {
   "cell_type": "markdown",
   "metadata": {},
   "source": [
    "Though .py files do come with fewer features than notebooks, they are excellent at a few things:"
   ]
  },
  {
   "cell_type": "markdown",
   "metadata": {},
   "source": [
    "- Running code non-interactively, or batch style\n",
    "    - The user can kick off these files and walk away, and they will run until complete."
   ]
  },
  {
   "cell_type": "markdown",
   "metadata": {},
   "source": [
    "- Making libraries\n",
    "    - All the packages you've seen (Pandas, scikit-learn) are written in .py files*, not notebooks."
   ]
  },
  {
   "cell_type": "markdown",
   "metadata": {},
   "source": [
    "- Building large applications\n",
    "    - The enormous complexity of software development means that the metadata of Jupyter is just overhead; most developers want nothing but code."
   ]
  },
  {
   "cell_type": "markdown",
   "metadata": {},
   "source": [
    "### How Do You Write .py Files?"
   ]
  },
  {
   "cell_type": "markdown",
   "metadata": {},
   "source": [
    "You can write a .py file in any text editor that's capable of saving **plain text**, or files that contain text and nothing else."
   ]
  },
  {
   "cell_type": "markdown",
   "metadata": {},
   "source": [
    "Most text editors for creating complex, styled documents are not suited for this purpose, e.g. Microsoft Word or Apple Pages."
   ]
  },
  {
   "cell_type": "markdown",
   "metadata": {},
   "source": [
    "But applications like Notepad and TextEdit do support plain text-editing. And Jupyter has a built-in text editor for writing .py files, also available in the New dropdown."
   ]
  },
  {
   "cell_type": "markdown",
   "metadata": {},
   "source": [
    "![New Text File](images/new_terminal.png)"
   ]
  },
  {
   "cell_type": "markdown",
   "metadata": {},
   "source": [
    "![New Text File Jupyter](images/new_text_file_jupyter.png)"
   ]
  },
  {
   "cell_type": "markdown",
   "metadata": {},
   "source": [
    "Open a new text file in Jupyter and type the same code as before:\n",
    "```python\n",
    "x = 4\n",
    "print(x)\n",
    "```"
   ]
  },
  {
   "cell_type": "markdown",
   "metadata": {},
   "source": [
    "Then go to File > Save. Close the window when you're finished."
   ]
  },
  {
   "cell_type": "markdown",
   "metadata": {},
   "source": [
    "### Running .py Files"
   ]
  },
  {
   "cell_type": "code",
   "execution_count": null,
   "metadata": {},
   "outputs": [],
   "source": []
  },
  {
   "cell_type": "markdown",
   "metadata": {},
   "source": [
    "## Differences Between Python in the Shell and in Jupyter"
   ]
  },
  {
   "cell_type": "code",
   "execution_count": null,
   "metadata": {},
   "outputs": [],
   "source": []
  }
 ],
 "metadata": {
  "kernelspec": {
   "display_name": "uc-python",
   "language": "python",
   "name": "python3"
  },
  "language_info": {
   "codemirror_mode": {
    "name": "ipython",
    "version": 3
   },
   "file_extension": ".py",
   "mimetype": "text/x-python",
   "name": "python",
   "nbconvert_exporter": "python",
   "pygments_lexer": "ipython3",
   "version": "3.7.3"
  }
 },
 "nbformat": 4,
 "nbformat_minor": 2
}
